{
 "cells": [
  {
   "cell_type": "code",
   "execution_count": 1,
   "id": "62bc6f5c",
   "metadata": {},
   "outputs": [
    {
     "name": "stdout",
     "output_type": "stream",
     "text": [
      "Mencoba mendapatkan kamus default Sastrawi secara programatik...\n",
      "Membuat instance StemmerFactory default...\n",
      "Instance Factory berhasil dibuat.\n",
      "ERROR: Tidak dapat menemukan atribut 'dictionary' pada objek StemmerFactory.\n",
      "Struktur internal Sastrawi mungkin berbeda di versi Anda.\n"
     ]
    },
    {
     "ename": "SystemExit",
     "evalue": "1",
     "output_type": "error",
     "traceback": [
      "An exception has occurred, use %tb to see the full traceback.\n",
      "\u001b[31mSystemExit\u001b[39m\u001b[31m:\u001b[39m 1\n"
     ]
    },
    {
     "name": "stderr",
     "output_type": "stream",
     "text": [
      "/home/xerces/anaconda3/envs/venv/lib/python3.13/site-packages/IPython/core/interactiveshell.py:3557: UserWarning: To exit: use 'exit', 'quit', or Ctrl-D.\n",
      "  warn(\"To exit: use 'exit', 'quit', or Ctrl-D.\", stacklevel=1)\n"
     ]
    }
   ],
   "source": [
    "import os\n",
    "import sys\n",
    "from Sastrawi.Stemmer.StemmerFactory import StemmerFactory\n",
    "# Kita mungkin tidak perlu ArrayDictionary jika hanya mengambil kata\n",
    "# from Sastrawi.Dictionary.ArrayDictionary import ArrayDictionary\n",
    "\n",
    "# --- Konfigurasi ---\n",
    "NAMA_FILE_KAMUS_OUTPUT = \"kamus_kata_dasar.txt\" # Nama file output\n",
    "# --- Akhir Konfigurasi ---\n",
    "\n",
    "# Dapatkan path direktori kerja saat ini\n",
    "base_dir = os.getcwd()\n",
    "file_path_output = os.path.join(base_dir, NAMA_FILE_KAMUS_OUTPUT)\n",
    "\n",
    "print(\"Mencoba mendapatkan kamus default Sastrawi secara programatik...\")\n",
    "\n",
    "try:\n",
    "    # 1. Buat factory default (akan memuat kamus internal default)\n",
    "    print(\"Membuat instance StemmerFactory default...\")\n",
    "    factory = StemmerFactory()\n",
    "    print(\"Instance Factory berhasil dibuat.\")\n",
    "\n",
    "    # 2. Akses objek dictionary dari factory\n",
    "    # Coba akses atribut 'dictionary'. Nama atribut bisa berbeda di versi Sastrawi lain.\n",
    "    if hasattr(factory, 'dictionary'):\n",
    "        kamus_objek = factory.dictionary\n",
    "        print(f\"Berhasil mendapatkan objek kamus: {type(kamus_objek)}\")\n",
    "\n",
    "        # 3. Dapatkan daftar kata dari objek dictionary\n",
    "        # Coba akses metode atau atribut untuk mendapatkan kata-kata.\n",
    "        # Objek default biasanya ArrayDictionary. Coba akses atribut 'words' atau panggil contains().\n",
    "        # Cara paling umum mungkin dengan mendapatkan semua kata.\n",
    "        # Kita asumsikan objek kamus memiliki cara untuk diiterasi atau memiliki properti .words\n",
    "        kata_dasar_set = set()\n",
    "        if hasattr(kamus_objek, 'words') and isinstance(kamus_objek.words, (list, set)):\n",
    "             # Jika ada atribut .words berupa list atau set\n",
    "             kata_dasar_set = set(kamus_objek.words)\n",
    "             print(f\"Berhasil mendapatkan kamus dari atribut 'words'.\")\n",
    "        elif hasattr(kamus_objek, '__iter__'):\n",
    "            # Jika objek kamus bisa diiterasi langsung (kurang umum)\n",
    "            kata_dasar_set = set(kata for kata in kamus_objek)\n",
    "            print(f\"Berhasil mendapatkan kamus dengan mengiterasi objek kamus.\")\n",
    "        # Tambahkan metode lain jika perlu, misal kamus_objek.get_words()\n",
    "        # elif hasattr(kamus_objek, 'get_words'):\n",
    "        #     kata_dasar_set = set(kamus_objek.get_words())\n",
    "        #     print(f\"Berhasil mendapatkan kamus dari metode 'get_words()'.\")\n",
    "        else:\n",
    "            # Jika tidak ada cara standar, coba cara Sastrawi V1 (mungkin masih relevan)\n",
    "            # Sastrawi V1 menyimpan di list internal yg mungkin tidak publik\n",
    "            # Kita coba cara 'contains' sebagai fallback terakhir (tidak ideal untuk ekstraksi)\n",
    "             print(\"Tidak menemukan cara langsung mendapatkan kata. Mencoba fallback...\")\n",
    "             # Fallback ini kurang efisien dan mungkin tidak lengkap, tapi dicoba\n",
    "             # Jika kamus sangat besar, ini bisa sangat lambat atau tidak praktis\n",
    "             # Perlu cara yang lebih baik jika ini gagal\n",
    "             # Mungkin perlu melihat source code Sastrawi versi Anda untuk cara pasti\n",
    "             print(\"WARNING: Tidak dapat mengekstrak kamus secara efisien. Hasil mungkin tidak lengkap.\")\n",
    "\n",
    "\n",
    "        if not kata_dasar_set:\n",
    "            print(\"ERROR: Gagal mengekstrak kata-kata dari objek kamus default Sastrawi.\")\n",
    "            sys.exit(1)\n",
    "\n",
    "        print(f\"Berhasil mendapatkan {len(kata_dasar_set)} kata dasar dari kamus default Sastrawi.\")\n",
    "\n",
    "        # 4. Urutkan dan Simpan ke file\n",
    "        kata_dasar_list = sorted(list(kata_dasar_set))\n",
    "\n",
    "        print(f\"Menyimpan kamus ke file: '{file_path_output}'...\")\n",
    "        try:\n",
    "            with open(file_path_output, 'w', encoding='utf-8') as f_out:\n",
    "                for kata in kata_dasar_list:\n",
    "                    f_out.write(kata + '\\n')\n",
    "            print(f\"Kamus kata dasar default Sastrawi berhasil disimpan sebagai '{NAMA_FILE_KAMUS_OUTPUT}'.\")\n",
    "            print(\"Anda sekarang dapat mengedit file ini jika diperlukan.\")\n",
    "\n",
    "        except Exception as e:\n",
    "            print(f\"ERROR: Gagal menyimpan kamus ke file output: {e}\")\n",
    "            sys.exit(1)\n",
    "\n",
    "    else:\n",
    "        print(\"ERROR: Tidak dapat menemukan atribut 'dictionary' pada objek StemmerFactory.\")\n",
    "        print(\"Struktur internal Sastrawi mungkin berbeda di versi Anda.\")\n",
    "        sys.exit(1)\n",
    "\n",
    "except ImportError:\n",
    "     print(f\"ERROR: Gagal mengimpor Sastrawi.\")\n",
    "     print(\"Pastikan Sastrawi terinstal dengan benar di environment ini.\")\n",
    "     print(\"Jalankan: pip install sastrawi\")\n",
    "     sys.exit(1)\n",
    "except Exception as e:\n",
    "    print(f\"ERROR: Terjadi kesalahan tak terduga saat inisialisasi atau ekstraksi: {e}\")\n",
    "    sys.exit(1)"
   ]
  }
 ],
 "metadata": {
  "kernelspec": {
   "display_name": "venv",
   "language": "python",
   "name": "python3"
  },
  "language_info": {
   "codemirror_mode": {
    "name": "ipython",
    "version": 3
   },
   "file_extension": ".py",
   "mimetype": "text/x-python",
   "name": "python",
   "nbconvert_exporter": "python",
   "pygments_lexer": "ipython3",
   "version": "3.13.2"
  }
 },
 "nbformat": 4,
 "nbformat_minor": 5
}
